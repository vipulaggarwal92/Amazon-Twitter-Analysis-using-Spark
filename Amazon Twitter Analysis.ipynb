{
  "nbformat": 4,
  "nbformat_minor": 0,
  "metadata": {
    "colab": {
      "name": "IDS_561_Assignment_3.ipynb",
      "provenance": [],
      "collapsed_sections": []
    },
    "kernelspec": {
      "display_name": "Python 3",
      "language": "python",
      "name": "python3"
    },
    "language_info": {
      "codemirror_mode": {
        "name": "ipython",
        "version": 3
      },
      "file_extension": ".py",
      "mimetype": "text/x-python",
      "name": "python",
      "nbconvert_exporter": "python",
      "pygments_lexer": "ipython3",
      "version": "3.7.4"
    }
  },
  "cells": [
    {
      "cell_type": "code",
      "metadata": {
        "colab_type": "code",
        "id": "esXDcdVjvhG4",
        "colab": {}
      },
      "source": [
        "!apt-get install openjdk-8-jdk-headless -qq > /dev/null\n",
        "!wget -q https://www-us.apache.org/dist/spark/spark-2.4.5/spark-2.4.5-bin-hadoop2.7.tgz\n",
        "!tar xf spark-2.4.5-bin-hadoop2.7.tgz\n",
        "!pip install -q findspark"
      ],
      "execution_count": 0,
      "outputs": []
    },
    {
      "cell_type": "code",
      "metadata": {
        "colab_type": "code",
        "id": "M6-cQGyZxCk_",
        "colab": {}
      },
      "source": [
        "import os\n",
        "os.environ[\"JAVA_HOME\"] = \"/usr/lib/jvm/java-8-openjdk-amd64\"\n",
        "os.environ[\"SPARK_HOME\"] = \"/content/spark-2.4.5-bin-hadoop2.7\""
      ],
      "execution_count": 0,
      "outputs": []
    },
    {
      "cell_type": "code",
      "metadata": {
        "colab_type": "code",
        "id": "xJ2QAKMxxGqf",
        "colab": {}
      },
      "source": [
        "import findspark\n",
        "findspark.init()\n",
        "from pyspark.sql import SparkSession\n",
        "spark = SparkSession.builder.master(\"local[*]\").getOrCreate()"
      ],
      "execution_count": 0,
      "outputs": []
    },
    {
      "cell_type": "code",
      "metadata": {
        "colab_type": "code",
        "id": "QvZyTACUxNRC",
        "outputId": "994d6533-e8ad-4c83-ead8-2c8db5dfdcb0",
        "colab": {
          "base_uri": "https://localhost:8080/",
          "height": 474
        }
      },
      "source": [
        "#Loading Amazon Dataset \n",
        "#Task 1\n",
        "dataset_amazon = spark.read.csv('Amazon_Responded_Oct05.csv',inferSchema=True, header =True)\n",
        "dataset_amazon.show()"
      ],
      "execution_count": 11,
      "outputs": [
        {
          "output_type": "stream",
          "text": [
            "+--------------------+--------------------+----------------+-----------+-------------------+---------------------+--------------+-----------------+--------------+--------------------+-------------+-------------+--------------------+------------------+--------------------+--------------+--------------------+--------------+---------+-----------------------+-------------------------+-----------------------+-------------+---------+--------------------+\n",
            "|              id_str|    tweet_created_at|user_screen_name|user_id_str|user_statuses_count|user_favourites_count|user_protected|user_listed_count|user_following|    user_description|user_location|user_verified|user_followers_count|user_friends_count|     user_created_at|tweet_language|               text_|favorite_count|favorited|in_reply_to_screen_name|in_reply_to_status_id_str|in_reply_to_user_id_str|retweet_count|retweeted|                text|\n",
            "+--------------------+--------------------+----------------+-----------+-------------------+---------------------+--------------+-----------------+--------------+--------------------+-------------+-------------+--------------------+------------------+--------------------+--------------+--------------------+--------------+---------+-----------------------+-------------------------+-----------------------+-------------+---------+--------------------+\n",
            "|'793270689780203520'|Tue Nov 01 01:57:...|     SeanEPanjab|  143515471|              51287|                 4079|         False|               74|         False|Content marketer;...|   غریب الوطن|        False|                1503|               850|Thu May 13 17:43:...|            en|@AmazonHelp Can y...|             0|    False|             AmazonHelp|                     null|               85741735|            0|    False|                null|\n",
            "|'793281386912354304'|Tue Nov 01 02:39:...|      AmazonHelp|   85741735|            2225450|                11366|         False|              796|         False|We answer Amazon ...|         null|         True|              149569|                53|Wed Oct 28 04:17:...|            en|@SeanEPanjab I'm ...|             0|    False|            SeanEPanjab|     7.932706897802035...|              143515471|            0|    False|                null|\n",
            "|'793501578766319616'|Tue Nov 01 17:14:...|     SeanEPanjab|  143515471|              51287|                 4079|         False|               74|         False|Content marketer;...|   غریب الوطن|        False|                1503|               850|Thu May 13 17:43:...|            en|@AmazonHelp It wa...|             0|    False|             AmazonHelp|     7.932813869123543...|               85741735|            0|    False|@AmazonHelp It wa...|\n",
            "|'793501657346682880'|Tue Nov 01 17:15:...|     SeanEPanjab|  143515471|              51287|                 4079|         False|               74|         False|Content marketer;...|   غریب الوطن|        False|                1503|               850|Thu May 13 17:43:...|            en|@AmazonHelp I am ...|             0|    False|             AmazonHelp|     7.932813869123543...|               85741735|            0|    False|                null|\n",
            "|'793502854459879424'|Tue Nov 01 17:19:...|      AmazonHelp|   85741735|            2225450|                11366|         False|              796|         False|We answer Amazon ...|         null|         True|              149569|                53|Wed Oct 28 04:17:...|            en|@SeanEPanjab Plea...|             0|    False|            SeanEPanjab|     7.935015787663196...|              143515471|            0|    False|@SeanEPanjab Plea...|\n",
            "|'793504235400884224'|Tue Nov 01 17:25:...|      AmazonHelp|   85741735|            2225450|                11366|         False|              796|         False|We answer Amazon ...|         null|         True|              149569|                53|Wed Oct 28 04:17:...|            en|@SeanEPanjab With...|             0|    False|            SeanEPanjab|     7.935016573466829...|              143515471|            0|    False|                null|\n",
            "|'793511847899070465'|Tue Nov 01 17:55:...|     SeanEPanjab|  143515471|              51287|                 4079|         False|               74|         False|Content marketer;...|   غریب الوطن|        False|                1503|               850|Thu May 13 17:43:...|            en|@AmazonHelp It wa...|             0|    False|             AmazonHelp|     7.935042354008842...|               85741735|            0|    False|                null|\n",
            "|'793511899279208449'|Tue Nov 01 17:55:...|     SeanEPanjab|  143515471|              51287|                 4079|         False|               74|         False|Content marketer;...|   غریب الوطن|        False|                1503|               850|Thu May 13 17:43:...|            en|@AmazonHelp if it...|             0|    False|             AmazonHelp|     7.935042354008842...|               85741735|            0|    False|                null|\n",
            "|'793513446633533440'|Tue Nov 01 18:02:...|      AmazonHelp|   85741735|            2225450|                11366|         False|              796|         False|We answer Amazon ...|         null|         True|              149569|                53|Wed Oct 28 04:17:...|            en|@SeanEPanjab I'm ...|             0|    False|            SeanEPanjab|     7.935118992792084...|              143515471|            0|    False|@SeanEPanjab I'm ...|\n",
            "|'793299404975247360'|Tue Nov 01 03:51:...|   aakashwangnoo|   71457972|                592|                  471|         False|               11|         False|Don't try to be G...|    New Delhi|        False|                 234|                57|Fri Sep 04 04:55:...|            en|@JeffBezos @amazo...|             0|    False|              JeffBezos|                     null|               15506669|            0|    False|                null|\n",
            "|'793301295255945216'|Tue Nov 01 03:59:...|      AmazonHelp|   85741735|            2225442|                11366|         False|              796|         False|We answer Amazon ...|         null|         True|              149568|                53|Wed Oct 28 04:17:...|            en|@aakashwangnoo Hi...|             0|    False|          aakashwangnoo|     7.932994049752474...|               71457972|            0|    False|                null|\n",
            "|'793407430344310785'|Tue Nov 01 11:00:...|   aakashwangnoo|   71457972|                592|                  471|         False|               11|         False|Don't try to be G...|    New Delhi|        False|                 234|                57|Fri Sep 04 04:55:...|            en|@AmazonHelp How m...|             0|    False|             AmazonHelp|     7.933012952559452...|               85741735|            0|    False|                null|\n",
            "|'793423313674571776'|Tue Nov 01 12:03:...|      AmazonHelp|   85741735|            2225442|                11366|         False|              796|         False|We answer Amazon ...|         null|         True|              149568|                53|Wed Oct 28 04:17:...|            en|@aakashwangnoo Hi...|             0|    False|          aakashwangnoo|     7.934074303443108...|               71457972|            0|    False|@aakashwangnoo Hi...|\n",
            "|'793423314333134850'|Tue Nov 01 12:03:...|      AmazonHelp|   85741735|            2225442|                11366|         False|              796|         False|We answer Amazon ...|         null|         True|              149568|                53|Wed Oct 28 04:17:...|            en|@aakashwangnoo Pl...|             0|    False|          aakashwangnoo|     7.934074303443108...|               71457972|            0|    False|                null|\n",
            "|'793467086869630977'|Tue Nov 01 14:57:...|   aakashwangnoo|   71457972|                592|                  471|         False|               11|         False|Don't try to be G...|    New Delhi|        False|                 234|                57|Fri Sep 04 04:55:...|            en|@AmazonHelp @amaz...|             0|    False|             AmazonHelp|     7.934233143331348...|               85741735|            0|    False|                null|\n",
            "|'793492430666498050'|Tue Nov 01 16:38:...|      AmazonHelp|   85741735|            2225442|                11366|         False|              796|         False|We answer Amazon ...|         null|         True|              149568|                53|Wed Oct 28 04:17:...|            en|@aakashwangnoo Hi...|             0|    False|          aakashwangnoo|     7.93467086869631e+17|               71457972|            0|    False|@aakashwangnoo Hi...|\n",
            "|'793535036213501952'|Tue Nov 01 19:27:...|   aakashwangnoo|   71457972|                592|                  471|         False|               11|         False|Don't try to be G...|    New Delhi|        False|                 234|                57|Fri Sep 04 04:55:...|            en|@AmazonHelp @amaz...|             0|    False|             AmazonHelp|     7.93492430666498e+17|               85741735|            0|    False|                null|\n",
            "|'793535221329113088'|Tue Nov 01 19:28:...|   aakashwangnoo|   71457972|                592|                  471|         False|               11|         False|Don't try to be G...|    New Delhi|        False|                 234|                57|Fri Sep 04 04:55:...|            en|@AmazonHelp @amaz...|             0|    False|          aakashwangnoo|     7.93535036213502e+17|               71457972|            0|    False|                null|\n",
            "|'793537840533471232'|Tue Nov 01 19:38:...|   aakashwangnoo|   71457972|                592|                  471|         False|               11|         False|Don't try to be G...|    New Delhi|        False|                 234|                57|Fri Sep 04 04:55:...|            en|@AmazonHelp @amaz...|             0|    False|             AmazonHelp|     7.93492430666498e+17|               85741735|            0|    False|@AmazonHelp @amaz...|\n",
            "|'793538125884645376'|Tue Nov 01 19:40:...|   aakashwangnoo|   71457972|                592|                  471|         False|               11|         False|Don't try to be G...|    New Delhi|        False|                 234|                57|Fri Sep 04 04:55:...|            en|@AmazonHelp @amaz...|             0|    False|          aakashwangnoo|     7.935378405334712...|               71457972|            0|    False|@AmazonHelp @amaz...|\n",
            "+--------------------+--------------------+----------------+-----------+-------------------+---------------------+--------------+-----------------+--------------+--------------------+-------------+-------------+--------------------+------------------+--------------------+--------------+--------------------+--------------+---------+-----------------------+-------------------------+-----------------------+-------------+---------+--------------------+\n",
            "only showing top 20 rows\n",
            "\n"
          ],
          "name": "stdout"
        }
      ]
    },
    {
      "cell_type": "code",
      "metadata": {
        "colab_type": "code",
        "id": "hAxrRORTyvn3",
        "outputId": "1b93ccfc-83d3-4052-c7c9-33c9ba8b0169",
        "colab": {
          "base_uri": "https://localhost:8080/",
          "height": 67
        }
      },
      "source": [
        "#-------------------------------------------------Data Cleaning Process-------------------------------------------------\n",
        "\n",
        "#Taking only the 3 columns into consideration and extracting the required date format\n",
        "from pyspark.sql.functions import concat,col,isnan, when, trim,substring\n",
        "\n",
        "#3 columns\n",
        "dataset_sel_col = dataset_amazon.select('tweet_created_at', 'user_screen_name', 'User_id_str')\n",
        "\n",
        "#Date format\n",
        "dataset_sel_col = dataset_sel_col.withColumn(\"tweet_created_at\", concat(dataset_sel_col.tweet_created_at.substr(4,8),dataset_sel_col.tweet_created_at.substr(27,32)))\n",
        "print(dataset_sel_col.count())\n",
        "\n",
        "#Removing duplicates\n",
        "df = dataset_sel_col.dropDuplicates()\n",
        "print(df.count())\n",
        "\n",
        "#Removing nulls,NaN\n",
        "df_filtered = df.where(~(trim(col(\"tweet_created_at\")).isNull() | isnan(col(\"tweet_created_at\"))))\n",
        "df_filtered = df.where(~(trim(col(\"user_screen_name\")).isNull() | isnan(col(\"user_screen_name\"))))\n",
        "df_filtered = df.where(~(trim(col(\"User_id_str\")).isNull() | isnan(col(\"User_id_str\"))))\n",
        "print(df_filtered.count())"
      ],
      "execution_count": 12,
      "outputs": [
        {
          "output_type": "stream",
          "text": [
            "413247\n",
            "100563\n",
            "99876\n"
          ],
          "name": "stdout"
        }
      ]
    },
    {
      "cell_type": "code",
      "metadata": {
        "id": "VwoJILVE6DaX",
        "colab_type": "code",
        "outputId": "cfa72404-4271-4b38-df58-a3192fd8ff48",
        "colab": {
          "base_uri": "https://localhost:8080/",
          "height": 487
        }
      },
      "source": [
        "#Removing True/False values\n",
        "df = df_filtered.filter(~col('user_screen_name').isin(['False','True']))\n",
        "df = df.filter(~col('User_id_str').isin(['False','True']))\n",
        "df = df.filter(~col('tweet_created_at').isin(['False','True']))\n",
        "print(df.count())\n",
        "\n",
        "#Removing non-integer User-IDs (We observe blank tweet dates and weird User Id strings for these rows)\n",
        "df = df.select(\"tweet_created_at\", \"user_screen_name\", \"User_id_str\",\n",
        "  trim(col(\"User_id_str\")).cast(\"int\").isNotNull().alias(\"Value\"))\n",
        "df = df.where(df['Value'] == 'True')\n",
        "\n",
        "#Keeping only valid dates by checking year\n",
        "df = df.select(\"tweet_created_at\", \"user_screen_name\", \"User_id_str\",\n",
        "  substring(trim(col(\"tweet_created_at\")),-4,4).cast(\"int\").isNotNull().alias(\"Value\"))\n",
        "df = df.where(df['Value'] == 'True')\n",
        "\n",
        "#Removing User ID = 0\n",
        "df = df.where(df['User_id_str'] != 0)\n",
        "print(df.count())\n",
        "\n",
        "#Checking if all dates are correct by sorting them\n",
        "df.orderBy(\"tweet_created_at\", ascending=False).show()\n",
        "#--------------------------------------------------------------------------------------------------"
      ],
      "execution_count": 13,
      "outputs": [
        {
          "output_type": "stream",
          "text": [
            "94346\n",
            "71658\n",
            "+----------------+----------------+-----------+-----+\n",
            "|tweet_created_at|user_screen_name|User_id_str|Value|\n",
            "+----------------+----------------+-----------+-----+\n",
            "|     Nov 30 2016|   Suburban_Hell|   26014139| true|\n",
            "|     Nov 30 2016|   TimBrooke2009|   39521459| true|\n",
            "|     Nov 30 2016|        IctBiker|  448112443| true|\n",
            "|     Nov 30 2016|       phillym64|  288493025| true|\n",
            "|     Nov 30 2016|    Ride4TheStar|  323622025| true|\n",
            "|     Nov 30 2016|       djeterg19|   19749718| true|\n",
            "|     Nov 30 2016|        JanArrah|   49576954| true|\n",
            "|     Nov 30 2016|  consultantweet| 1639136594| true|\n",
            "|     Nov 30 2016|   rajthedreamer|  102948266| true|\n",
            "|     Nov 30 2016|    DFernandez15|  284341562| true|\n",
            "|     Nov 30 2016|       melcoug93|  891484453| true|\n",
            "|     Nov 30 2016|    hellogregory|  148628040| true|\n",
            "|     Nov 30 2016|       wilmaried|   53214902| true|\n",
            "|     Nov 30 2016|      jayboy3775|  228248836| true|\n",
            "|     Nov 30 2016|    rebeccamlane|  516612059| true|\n",
            "|     Nov 30 2016|       longbryan|   19306469| true|\n",
            "|     Nov 30 2016|       SolezWolf|   30814829| true|\n",
            "|     Nov 30 2016|  shaswat_doctor|   57093188| true|\n",
            "|     Nov 30 2016|        FDNYMECH|  246257569| true|\n",
            "|     Nov 30 2016| BasicallyAWizrd|  570531243| true|\n",
            "+----------------+----------------+-----------+-----+\n",
            "only showing top 20 rows\n",
            "\n"
          ],
          "name": "stdout"
        }
      ]
    },
    {
      "cell_type": "code",
      "metadata": {
        "colab_type": "code",
        "id": "8Oc1KWHNy2Pp",
        "outputId": "8a3f77fe-d4af-4e13-91a3-40e905c4462d",
        "colab": {
          "base_uri": "https://localhost:8080/",
          "height": 470
        }
      },
      "source": [
        "#Step 1: Find out the users who are active for at least 5 days\n",
        "import pyspark.sql.functions as f\n",
        "\n",
        "df_users = df.groupBy('user_screen_name').count().select('user_screen_name', f.col('count').alias('n'))\n",
        "\n",
        "df_users = df_users.where(df_users['n'] > 5)\n",
        "print(df_users.count())\n",
        "df_users.show()"
      ],
      "execution_count": 14,
      "outputs": [
        {
          "output_type": "stream",
          "text": [
            "220\n",
            "+----------------+---+\n",
            "|user_screen_name|  n|\n",
            "+----------------+---+\n",
            "|  Green_JamesBee|  6|\n",
            "|        RGengage|  9|\n",
            "| sureshmuthrotil|  6|\n",
            "|       Tushi_Joy|  7|\n",
            "|      lupitasahu|  6|\n",
            "|      vaibhav926|  9|\n",
            "|  dahnamchandler|  8|\n",
            "|        amruthhr| 13|\n",
            "|    boredgirl260|  7|\n",
            "| Ronakjobanputr1|  6|\n",
            "|   RealMikeStack|  7|\n",
            "|           xtye_|  6|\n",
            "|       Taterpugz|  7|\n",
            "|        microrao|  6|\n",
            "|        jcline35|  8|\n",
            "|       only4ojha|  6|\n",
            "|       ramscrism|  6|\n",
            "|  MacqueenNathan|  6|\n",
            "|      librarykat|  7|\n",
            "|       dilbil143|  7|\n",
            "+----------------+---+\n",
            "only showing top 20 rows\n",
            "\n"
          ],
          "name": "stdout"
        }
      ]
    },
    {
      "cell_type": "code",
      "metadata": {
        "colab_type": "code",
        "id": "kP3nJF9Gjvwx",
        "outputId": "7c298cd2-cdb9-4c2b-a72a-b75c5c62f7fd",
        "colab": {
          "base_uri": "https://localhost:8080/",
          "height": 454
        }
      },
      "source": [
        "temp = df_users.alias('a').join(df.alias('b'),col('a.user_screen_name') == col('b.user_screen_name'))\n",
        "output_result = temp.select(['a.user_screen_name', 'b.User_id_str']).dropDuplicates()\n",
        "                                              \n",
        "output_result.show()"
      ],
      "execution_count": 15,
      "outputs": [
        {
          "output_type": "stream",
          "text": [
            "+----------------+-----------+\n",
            "|user_screen_name|User_id_str|\n",
            "+----------------+-----------+\n",
            "|  sky_regenrated|  483059773|\n",
            "|   Gentlemen_Sam|  441572163|\n",
            "|        trallyus|   11702402|\n",
            "|      Whitjoseph|  148495262|\n",
            "|       basusagar|   42205044|\n",
            "|    brian_riback|  424400406|\n",
            "|   urvashi_mitra|  527489415|\n",
            "|  ReclusiveCoder|  144280479|\n",
            "|        kmayyank|  388738029|\n",
            "|     lahsivarhor|   86762070|\n",
            "| ranabiswanath12|  543571642|\n",
            "|    coolfrog1988|   35214799|\n",
            "|   RealMikeStack| 1529167434|\n",
            "|         Asqwolf|   62498968|\n",
            "|   project_gonzo|  134300648|\n",
            "|   Tushar_Kapila|   17463956|\n",
            "|       Tushi_Joy|   88709529|\n",
            "|       deecaltee|  714942588|\n",
            "|       posterest| 1066180207|\n",
            "|         ke4ole1|  213060183|\n",
            "+----------------+-----------+\n",
            "only showing top 20 rows\n",
            "\n"
          ],
          "name": "stdout"
        }
      ]
    },
    {
      "cell_type": "code",
      "metadata": {
        "colab_type": "code",
        "id": "VnJhIow13jzv",
        "outputId": "f346ef7a-390b-440b-a80d-02cec99e2822",
        "colab": {
          "base_uri": "https://localhost:8080/",
          "height": 470
        }
      },
      "source": [
        "#Step 2: Conduct an A/B test on Twitter\n",
        "\n",
        "#Loading Experiment file\n",
        "write_df = spark.read.option(\"header\", \"false\").csv(\"experiment.txt\")\n",
        "experiment = write_df.select(f.col('_c0').alias(\"Experiment_User_id\"))\n",
        "print(experiment.count())\n",
        "experiment.show()"
      ],
      "execution_count": 16,
      "outputs": [
        {
          "output_type": "stream",
          "text": [
            "5000\n",
            "+------------------+\n",
            "|Experiment_User_id|\n",
            "+------------------+\n",
            "|         143515471|\n",
            "|          85741735|\n",
            "|          71457972|\n",
            "|        2908108256|\n",
            "|         106799492|\n",
            "|          59156981|\n",
            "|         902137872|\n",
            "|         110354554|\n",
            "|          97424433|\n",
            "|          62364020|\n",
            "|        2706101936|\n",
            "|           5654472|\n",
            "|         145579921|\n",
            "|        2502172122|\n",
            "|         243716471|\n",
            "|        2610379644|\n",
            "|         123138418|\n",
            "|         257376764|\n",
            "|         269145593|\n",
            "|         370711133|\n",
            "+------------------+\n",
            "only showing top 20 rows\n",
            "\n"
          ],
          "name": "stdout"
        }
      ]
    },
    {
      "cell_type": "code",
      "metadata": {
        "colab_type": "code",
        "id": "Lwqoyqp3fneP",
        "outputId": "405c5011-3fb2-42f0-e81b-efae908d3eea",
        "colab": {
          "base_uri": "https://localhost:8080/",
          "height": 470
        }
      },
      "source": [
        "#Join to find which user is active\n",
        "\n",
        "left_join = experiment.join(output_result, experiment.Experiment_User_id == output_result.User_id_str,how='left')\n",
        "output_step2 = left_join.select('Experiment_User_id','User_id_str')\n",
        "print(output_step2.count()) \n",
        "output_step2.show()   "
      ],
      "execution_count": 17,
      "outputs": [
        {
          "output_type": "stream",
          "text": [
            "5000\n",
            "+------------------+-----------+\n",
            "|Experiment_User_id|User_id_str|\n",
            "+------------------+-----------+\n",
            "|         106799492|       null|\n",
            "|        2610379644|       null|\n",
            "|          62364020|       null|\n",
            "|         123138418|       null|\n",
            "|        2908108256|       null|\n",
            "|         143515471|       null|\n",
            "|          97424433|       null|\n",
            "|        2706101936|       null|\n",
            "|        1510968974|       null|\n",
            "|         110354554|       null|\n",
            "|        2502172122|       null|\n",
            "|         243716471|       null|\n",
            "|          59156981|       null|\n",
            "|          71457972|       null|\n",
            "|         257376764|       null|\n",
            "|           5654472|       null|\n",
            "|          85741735|   85741735|\n",
            "|         370711133|       null|\n",
            "|         145579921|       null|\n",
            "|         902137872|       null|\n",
            "+------------------+-----------+\n",
            "only showing top 20 rows\n",
            "\n"
          ],
          "name": "stdout"
        }
      ]
    },
    {
      "cell_type": "code",
      "metadata": {
        "colab_type": "code",
        "id": "ILPEqYaY35w3",
        "outputId": "bcf950a9-6fbb-48ef-e5b5-4d3de02428a3",
        "colab": {
          "base_uri": "https://localhost:8080/",
          "height": 470
        }
      },
      "source": [
        "from pyspark.sql import functions as F\n",
        "\n",
        "selection = ['Experiment_User_id', F.when(F.col('User_id_str').isNull(),'No').otherwise('Yes').alias('Whether_active')]\n",
        "\n",
        "experiment_user = output_step2.select(selection)\n",
        "print(experiment_user.count())\n",
        "experiment_user.show()"
      ],
      "execution_count": 18,
      "outputs": [
        {
          "output_type": "stream",
          "text": [
            "5000\n",
            "+------------------+--------------+\n",
            "|Experiment_User_id|Whether_active|\n",
            "+------------------+--------------+\n",
            "|          11798342|            No|\n",
            "|        1210875679|            No|\n",
            "|         128257538|            No|\n",
            "|         137088213|            No|\n",
            "|         142202059|            No|\n",
            "|          14291504|            No|\n",
            "|          16279527|            No|\n",
            "|         163148814|            No|\n",
            "|          20110100|            No|\n",
            "|         211972025|            No|\n",
            "|        2176836186|            No|\n",
            "|         234641258|            No|\n",
            "|        2372082613|            No|\n",
            "|          26915435|            No|\n",
            "|          27840175|            No|\n",
            "|         301131509|            No|\n",
            "|        3028486809|            No|\n",
            "|         305743837|            No|\n",
            "|        3196213653|            No|\n",
            "|         348844543|            No|\n",
            "+------------------+--------------+\n",
            "only showing top 20 rows\n",
            "\n"
          ],
          "name": "stdout"
        }
      ]
    },
    {
      "cell_type": "code",
      "metadata": {
        "colab_type": "code",
        "id": "stXQD5LCP5Dq",
        "outputId": "337f6677-b97a-4864-daca-9115061f24c9",
        "colab": {
          "base_uri": "https://localhost:8080/",
          "height": 34
        }
      },
      "source": [
        "#Percentage of active users\n",
        "output = experiment_user.where(experiment_user['Whether_Active'] == 'Yes').count()/experiment_user.count()*100\n",
        "print(f'{output}%')"
      ],
      "execution_count": 19,
      "outputs": [
        {
          "output_type": "stream",
          "text": [
            "1.2%\n"
          ],
          "name": "stdout"
        }
      ]
    },
    {
      "cell_type": "code",
      "metadata": {
        "colab_type": "code",
        "id": "mTmQF2c_iXAx",
        "outputId": "96540e0b-8b1c-49ca-a9d9-1e0bd5e3934a",
        "colab": {
          "base_uri": "https://localhost:8080/",
          "height": 504
        }
      },
      "source": [
        "#Step 3: Joining the 3 tables to form Amazon_new.csv\n",
        "#df - Amazon cleaned data\n",
        "#output_result - Table after Step 1\n",
        "#experiment_user - Table after Step 2\n",
        "\n",
        "temp = df.alias('a').join(output_result.alias('b'),col('a.User_id_str') == col('b.User_id_str'))\n",
        "output_result1 = temp.select(['a.tweet_created_at','a.user_screen_name','a.User_id_str']).dropDuplicates()\n",
        "print(output_result1.count()) \n",
        "#output_result1.show()\n",
        "\n",
        "output_step2 = experiment_user.where(experiment_user['Whether_Active'] == 'Yes')\n",
        "print(output_step2.count()) \n",
        "\n",
        "\n",
        "inner_join = output_result1.join(output_step2, output_result1.User_id_str == output_step2.Experiment_User_id,how='inner')\n",
        "output_step3 = inner_join.select('tweet_created_at','user_screen_name','User_id_str').dropDuplicates()\n",
        "\n",
        "print(output_step3.count()) \n",
        "output_step3.show()"
      ],
      "execution_count": 20,
      "outputs": [
        {
          "output_type": "stream",
          "text": [
            "1937\n",
            "60\n",
            "743\n",
            "+----------------+----------------+-----------+\n",
            "|tweet_created_at|user_screen_name|User_id_str|\n",
            "+----------------+----------------+-----------+\n",
            "|     Jan 30 2017|          medtek|   18435372|\n",
            "|     Nov 18 2016|          medtek|   18435372|\n",
            "|     Dec 22 2016|          medtek|   18435372|\n",
            "|     Dec 23 2016|          medtek|   18435372|\n",
            "|     Apr 14 2017|          medtek|   18435372|\n",
            "|     Apr 27 2017|          medtek|   18435372|\n",
            "|     Jan 31 2017|          medtek|   18435372|\n",
            "|     Nov 19 2016|      TheMimiZee| 1387267123|\n",
            "|     Feb 11 2017|      TheMimiZee| 1387267123|\n",
            "|     Jan 20 2017|      TheMimiZee| 1387267123|\n",
            "|     Jan 27 2017|      TheMimiZee| 1387267123|\n",
            "|     Feb 12 2017|      TheMimiZee| 1387267123|\n",
            "|     Nov 12 2016|      TheMimiZee| 1387267123|\n",
            "|     Nov 13 2016|      TheMimiZee| 1387267123|\n",
            "|     Jan 26 2017|      TheMimiZee| 1387267123|\n",
            "|     Nov 03 2016|    J_cooper1990|  885336408|\n",
            "|     Jan 26 2017|    J_cooper1990|  885336408|\n",
            "|     Jan 20 2017|    J_cooper1990|  885336408|\n",
            "|     Jan 18 2017|    J_cooper1990|  885336408|\n",
            "|     Nov 02 2016|    J_cooper1990|  885336408|\n",
            "+----------------+----------------+-----------+\n",
            "only showing top 20 rows\n",
            "\n"
          ],
          "name": "stdout"
        }
      ]
    },
    {
      "cell_type": "code",
      "metadata": {
        "colab_type": "code",
        "id": "7NdKWiGBFS42",
        "colab": {}
      },
      "source": [
        "#Exporting the output \n",
        "output = output_step3.toPandas()\n",
        "output.to_csv('Amazon_new.csv')"
      ],
      "execution_count": 0,
      "outputs": []
    }
  ]
}